{
  "nbformat": 4,
  "nbformat_minor": 0,
  "metadata": {
    "colab": {
      "provenance": [],
      "authorship_tag": "ABX9TyM1HpSy6KH9/BY5pDDxRja0",
      "include_colab_link": true
    },
    "kernelspec": {
      "name": "python3",
      "display_name": "Python 3"
    },
    "language_info": {
      "name": "python"
    }
  },
  "cells": [
    {
      "cell_type": "markdown",
      "metadata": {
        "id": "view-in-github",
        "colab_type": "text"
      },
      "source": [
        "<a href=\"https://colab.research.google.com/github/Amiel-Lalas/DSA-58010/blob/main/Python_module.ipynb\" target=\"_parent\"><img src=\"https://colab.research.google.com/assets/colab-badge.svg\" alt=\"Open In Colab\"/></a>"
      ]
    },
    {
      "cell_type": "code",
      "execution_count": 7,
      "metadata": {
        "colab": {
          "base_uri": "https://localhost:8080/"
        },
        "id": "WA59IYY8RK5n",
        "outputId": "f2f21c6f-bd7c-42b8-ab74-2a0d5bff292e"
      },
      "outputs": [
        {
          "output_type": "stream",
          "name": "stdout",
          "text": [
            "i\n",
            "f\n"
          ]
        }
      ],
      "source": [
        "import array\n",
        "array.typecodes #get all typecodes\n",
        "a=array.array('i', [1,2,3,4,5,6]) #initialize array a\n",
        "b=array.array('f', [1.5,2.5,3.5,4.5,5.5,6.5]) #initialize array b\n",
        "print(a.typecode) #getting the typecode of a\n",
        "print(b.typecode) #getting the typecode of b"
      ]
    },
    {
      "cell_type": "code",
      "source": [
        "A = array.array('f', [1,2,3,4,5,6])\n",
        "print(A)\n"
      ],
      "metadata": {
        "colab": {
          "base_uri": "https://localhost:8080/"
        },
        "id": "GRYuSJGBTUD3",
        "outputId": "9d3b18c4-4a09-4604-e59f-88c6d7de5691"
      },
      "execution_count": 8,
      "outputs": [
        {
          "output_type": "stream",
          "name": "stdout",
          "text": [
            "array('f', [1.0, 2.0, 3.0, 4.0, 5.0, 6.0])\n"
          ]
        }
      ]
    },
    {
      "cell_type": "code",
      "source": [
        "import array #importing array from array module\n",
        "a=array.array('i',[4,5,6,7]) #initializing array a\n",
        "b=array.array('i',[1,2,3]) #initializing array b\n",
        "a.insert(1,2) #inserting element: 2 at index: 1\n",
        "print(a) #Printing array a\n",
        "#array('i',[4,2,5,6,7])\n",
        "a.insert(-1,0) #insert element: 0 at index\n",
        "print(a)\n",
        "a.insert(6,8) #insert element: -1 at index: 10, this is out of range\n",
        "print(a)\n",
        "b[0] = 5\n",
        "b[1] = 4\n",
        "b[2] = 3\n",
        "print(b)"
      ],
      "metadata": {
        "colab": {
          "base_uri": "https://localhost:8080/"
        },
        "id": "pTtclbkITYVl",
        "outputId": "36e18d14-8d2c-4b54-999a-7414ddac4364"
      },
      "execution_count": 9,
      "outputs": [
        {
          "output_type": "stream",
          "name": "stdout",
          "text": [
            "array('i', [4, 2, 5, 6, 7])\n",
            "array('i', [4, 2, 5, 6, 0, 7])\n",
            "array('i', [4, 2, 5, 6, 0, 7, 8])\n",
            "array('i', [5, 4, 3])\n"
          ]
        }
      ]
    },
    {
      "cell_type": "code",
      "source": [
        "class Node:\n",
        "  def __init__(self,data):\n",
        "    self.data = data    # assign data\n",
        "    self.next = None    # initialize as null\n",
        "\n",
        "#function that creates Linked-list object\n",
        "\n",
        "class LinkedList:\n",
        "  def __init(self):\n",
        "    self.head = None   #initialize head as null\n",
        "\n",
        "  def printList (self):\n",
        "    temp = self.head\n",
        "    while(temp != None):\n",
        "      print(temp.data)\n",
        "      temp = temp.next\n",
        "\n",
        "\n",
        "list = LinkedList()   #empty list\n",
        "list.head = Node(1)\n",
        "second = Node(2)\n",
        "third = Node(3)\n",
        "fourth = Node(4)\n",
        "fifth = Node(5)\n",
        "\n",
        "list.head.next = second\n",
        "second.next = third\n",
        "third.next = fourth\n",
        "fourth.next = fifth\n",
        "\n",
        "list.printList()"
      ],
      "metadata": {
        "colab": {
          "base_uri": "https://localhost:8080/"
        },
        "id": "DpBO3IpUTdDa",
        "outputId": "d7c7948b-2049-4774-934f-f9aaf1b1b740"
      },
      "execution_count": 10,
      "outputs": [
        {
          "output_type": "stream",
          "name": "stdout",
          "text": [
            "1\n",
            "2\n",
            "3\n",
            "4\n",
            "5\n"
          ]
        }
      ]
    }
  ]
}