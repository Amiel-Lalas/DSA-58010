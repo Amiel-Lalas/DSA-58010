{
  "nbformat": 4,
  "nbformat_minor": 0,
  "metadata": {
    "colab": {
      "provenance": [],
      "authorship_tag": "ABX9TyOUjplQjZ48qTHR/k989Hag",
      "include_colab_link": true
    },
    "kernelspec": {
      "name": "python3",
      "display_name": "Python 3"
    },
    "language_info": {
      "name": "python"
    }
  },
  "cells": [
    {
      "cell_type": "markdown",
      "metadata": {
        "id": "view-in-github",
        "colab_type": "text"
      },
      "source": [
        "<a href=\"https://colab.research.google.com/github/Amiel-Lalas/DSA-58010/blob/main/Long%20Quiz%201.ipynb\" target=\"_parent\"><img src=\"https://colab.research.google.com/assets/colab-badge.svg\" alt=\"Open In Colab\"/></a>"
      ]
    },
    {
      "cell_type": "code",
      "execution_count": 30,
      "metadata": {
        "colab": {
          "base_uri": "https://localhost:8080/"
        },
        "id": "aFI35RQBOqDk",
        "outputId": "24dab840-ddc8-4ad9-9370-99e6b1bc37a1"
      },
      "outputs": [
        {
          "output_type": "stream",
          "name": "stdout",
          "text": [
            "Full name:\n",
            "Amiel\n",
            "Simon\n",
            "Ray\n",
            "Lalas\n",
            "FULL NAME IN REVERSE:\n"
          ]
        },
        {
          "output_type": "execute_result",
          "data": {
            "text/plain": [
              "<bound method LinkedList.printlist of <__main__.LinkedList object at 0x7f11d89a6ed0>>"
            ]
          },
          "metadata": {},
          "execution_count": 30
        }
      ],
      "source": [
        "class Node:\n",
        "  def __init__(self,data):\n",
        "    self.data = data\n",
        "    self.next = None\n",
        "\n",
        "class LinkedList:\n",
        "  def __init__(self):\n",
        "    self.head = None\n",
        "    \n",
        "  \n",
        "  def reverse(self):\n",
        "      prev = None\n",
        "      current = self.head\n",
        "      while(current is not None):\n",
        "          next = current.next\n",
        "          current.next = prev\n",
        "          prev = current \n",
        "          current = next \n",
        "      self.head = prev\n",
        "\n",
        "  def push(self,new_data):\n",
        "      new_node = Node(new_data)\n",
        "      new_node.next = self.head\n",
        "      self.head = new_node\n",
        "\n",
        "\n",
        "  def printlist(self):\n",
        "    temp=self.head\n",
        "    while(temp):\n",
        "      print(temp.data)\n",
        "      temp = temp.next\n",
        "\n",
        "\n",
        "\n",
        "list = LinkedList()\n",
        "list.push(\"Lalas\")\n",
        "list.push(\"Ray\")\n",
        "list.push(\"Simon\")\n",
        "list.push(\"Amiel\")\n",
        "\n",
        "print(\"Full name:\")\n",
        "list.printlist()\n",
        "list.reverse\n",
        "print(\"FULL NAME IN REVERSE:\")\n",
        "list.printlist\n",
        "\n",
        "\n",
        "\n",
        "\n",
        "\n",
        "\n"
      ]
    }
  ]
}