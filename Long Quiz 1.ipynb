{
  "nbformat": 4,
  "nbformat_minor": 0,
  "metadata": {
    "colab": {
      "provenance": [],
      "include_colab_link": true
    },
    "kernelspec": {
      "name": "python3",
      "display_name": "Python 3"
    },
    "language_info": {
      "name": "python"
    }
  },
  "cells": [
    {
      "cell_type": "markdown",
      "metadata": {
        "id": "view-in-github",
        "colab_type": "text"
      },
      "source": [
        "<a href=\"https://colab.research.google.com/github/Amiel-Lalas/DSA-58010/blob/main/Long%20Quiz%201.ipynb\" target=\"_parent\"><img src=\"https://colab.research.google.com/assets/colab-badge.svg\" alt=\"Open In Colab\"/></a>"
      ]
    },
    {
      "cell_type": "code",
      "execution_count": 4,
      "metadata": {
        "colab": {
          "base_uri": "https://localhost:8080/"
        },
        "id": "aFI35RQBOqDk",
        "outputId": "932d2c68-5f2e-4379-cae1-82d4f63f75ce"
      },
      "outputs": [
        {
          "output_type": "stream",
          "name": "stdout",
          "text": [
            "Full name:\n",
            "Amiel\n",
            "Simon\n",
            "Ray\n",
            "Lalas\n",
            "FULL NAME IN REVERSE:\n",
            "Lalas\n",
            "Ray\n",
            "Simon\n",
            "Amiel\n"
          ]
        }
      ],
      "source": [
        "class Node:\n",
        "  def __init__(self,data):\n",
        "    self.data = data\n",
        "    self.next = None\n",
        "\n",
        "class LinkedList:\n",
        "  def __init__(self):\n",
        "    self.head = None\n",
        "    \n",
        "  \n",
        "  def reverse(self):\n",
        "      prev = None\n",
        "      current = self.head\n",
        "      while(current is not None):\n",
        "          next = current.next\n",
        "          current.next = prev\n",
        "          prev = current \n",
        "          current = next \n",
        "      self.head = prev\n",
        "\n",
        "  def push(self,new_data):\n",
        "      new_node = Node(new_data)\n",
        "      new_node.next = self.head\n",
        "      self.head = new_node\n",
        "\n",
        "\n",
        "  def printlist(self):\n",
        "      temp=self.head\n",
        "      while(temp):\n",
        "          print(temp.data)\n",
        "          temp = temp.next\n",
        "\n",
        "list = LinkedList()\n",
        "list.push(\"Lalas\")\n",
        "list.push(\"Ray\")\n",
        "list.push(\"Simon\")\n",
        "list.push(\"Amiel\")\n",
        "\n",
        "print(\"Full name:\")\n",
        "list.printlist()\n",
        "list.reverse()\n",
        "print(\"FULL NAME IN REVERSE:\")\n",
        "list.printlist()"
      ]
    }
  ]
}