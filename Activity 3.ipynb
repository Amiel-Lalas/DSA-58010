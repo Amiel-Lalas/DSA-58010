{
  "nbformat": 4,
  "nbformat_minor": 0,
  "metadata": {
    "colab": {
      "provenance": [],
      "authorship_tag": "ABX9TyOZerAjElvySqaV1tUq/Lr8",
      "include_colab_link": true
    },
    "kernelspec": {
      "name": "python3",
      "display_name": "Python 3"
    },
    "language_info": {
      "name": "python"
    }
  },
  "cells": [
    {
      "cell_type": "markdown",
      "metadata": {
        "id": "view-in-github",
        "colab_type": "text"
      },
      "source": [
        "<a href=\"https://colab.research.google.com/github/Amiel-Lalas/DSA-58010/blob/main/Activity%203.ipynb\" target=\"_parent\"><img src=\"https://colab.research.google.com/assets/colab-badge.svg\" alt=\"Open In Colab\"/></a>"
      ]
    },
    {
      "cell_type": "markdown",
      "source": [],
      "metadata": {
        "id": "HwtOAwcilf5i"
      }
    },
    {
      "cell_type": "code",
      "source": [
        "def create_stack():\n",
        "  stack = []\n",
        "  return stack\n",
        "\n",
        "def empty(stack):\n",
        "  return len(stack) == 0\n",
        "\n",
        "def push(stack, item):\n",
        "  stack.append(item)\n",
        "  print (\"Pushed element: \", item)\n",
        "\n",
        "def pop(stack):\n",
        "  if(empty(stack)):\n",
        "    return (\"The stack is empty\")\n",
        "  return stack.pop()\n",
        "\n",
        "stack = create_stack()\n",
        "push(stack, str(1))\n",
        "stack.pop()\n",
        "push(stack, str(2))\n",
        "push(stack, str(3))\n",
        "push(stack, str(4))\n",
        "push(stack, str(5))\n",
        "\n",
        "print(\"The elements in the stack are:\", str(stack))\n",
        "print (\"The number of elements in the stack is\", str(len(stack)))"
      ],
      "metadata": {
        "colab": {
          "base_uri": "https://localhost:8080/"
        },
        "id": "8_AbT5NuAGNj",
        "outputId": "6a9bf9df-d1dd-465c-941d-3f12a7bd5a60"
      },
      "execution_count": 11,
      "outputs": [
        {
          "output_type": "stream",
          "name": "stdout",
          "text": [
            "Pushed element:  1\n",
            "Pushed element:  2\n",
            "Pushed element:  3\n",
            "Pushed element:  4\n",
            "Pushed element:  5\n",
            "The elements in the stack are: ['2', '3', '4', '5']\n",
            "The number of elements in the stack is 4\n"
          ]
        }
      ]
    }
  ]
}