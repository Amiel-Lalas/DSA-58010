{
  "nbformat": 4,
  "nbformat_minor": 0,
  "metadata": {
    "colab": {
      "name": "Untitled6.ipynb",
      "provenance": [],
      "authorship_tag": "ABX9TyOvBH7bdDiRTskS3Wv5VgPq",
      "include_colab_link": true
    },
    "kernelspec": {
      "name": "python3",
      "display_name": "Python 3"
    },
    "language_info": {
      "name": "python"
    }
  },
  "cells": [
    {
      "cell_type": "markdown",
      "metadata": {
        "id": "view-in-github",
        "colab_type": "text"
      },
      "source": [
        "<a href=\"https://colab.research.google.com/github/Amiel-Lalas/DSA-58010/blob/main/AREA%20OF%20A%20CIRCLE.ipynb\" target=\"_parent\"><img src=\"https://colab.research.google.com/assets/colab-badge.svg\" alt=\"Open In Colab\"/></a>"
      ]
    },
    {
      "cell_type": "code",
      "execution_count": 8,
      "metadata": {
        "colab": {
          "base_uri": "https://localhost:8080/"
        },
        "id": "-ygt3qVmTnIF",
        "outputId": "4360f42c-b8d9-4565-c269-17a8687dc120"
      },
      "outputs": [
        {
          "output_type": "stream",
          "name": "stdout",
          "text": [
            "Enter the radius of a circle:2\n",
            "Area of a circle = 12.56\n"
          ]
        }
      ],
      "source": [
        "#IF RADIUS IS GIVEN\n",
        "rad = float(input(\"Enter the radius of a circle:\"))\n",
        "PI=3.14\n",
        "area = PI * rad**2\n",
        "print(\"Area of a circle = %.2f\" %area)"
      ]
    },
    {
      "cell_type": "code",
      "source": [
        "#IF DIAMETER IS GIVEN\n",
        "dia= float(input(\"Enter the diameter of a circle:\"))\n",
        "PI=3.14\n",
        "A=PI *dia**2/4\n",
        "print(\"Area of a circle = %.2f\" %A)"
      ],
      "metadata": {
        "colab": {
          "base_uri": "https://localhost:8080/"
        },
        "id": "yAz72X_QX2Wt",
        "outputId": "a8bfd2a6-9cb2-44da-c236-bd4cd7b01757"
      },
      "execution_count": 11,
      "outputs": [
        {
          "output_type": "stream",
          "name": "stdout",
          "text": [
            "Enter the diameter of a circle:3\n",
            "Area of a circle = 7.07\n"
          ]
        }
      ]
    }
  ]
}