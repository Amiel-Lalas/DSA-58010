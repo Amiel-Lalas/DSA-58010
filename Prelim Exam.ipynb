{
  "nbformat": 4,
  "nbformat_minor": 0,
  "metadata": {
    "colab": {
      "provenance": [],
      "authorship_tag": "ABX9TyMELfshKLPik6EqPfMYeTMY",
      "include_colab_link": true
    },
    "kernelspec": {
      "name": "python3",
      "display_name": "Python 3"
    },
    "language_info": {
      "name": "python"
    }
  },
  "cells": [
    {
      "cell_type": "markdown",
      "metadata": {
        "id": "view-in-github",
        "colab_type": "text"
      },
      "source": [
        "<a href=\"https://colab.research.google.com/github/Amiel-Lalas/DSA-58010/blob/main/Prelim%20Exam.ipynb\" target=\"_parent\"><img src=\"https://colab.research.google.com/assets/colab-badge.svg\" alt=\"Open In Colab\"/></a>"
      ]
    },
    {
      "cell_type": "markdown",
      "source": [
        "Choose Array data structure\n",
        "\n",
        "Create a python program that creates the array list below and counts the no. of even numbers\n",
        " A = [1,2,3,4,5,6,7,8,9,10]"
      ],
      "metadata": {
        "id": "HwtOAwcilf5i"
      }
    },
    {
      "cell_type": "code",
      "source": [
        "A = [1, 2, 3, 4, 5, 6, 7, 8, 9, 10]\n",
        "B = 0\n",
        "C = []\n",
        "for even in A:\n",
        "  if even != 1:\n",
        "    if even % 2 == 0:\n",
        "      B += 1\n",
        "\n",
        "for even in A:\n",
        "  if even % 2 == 0:\n",
        "    C.append (even)\n",
        "\n",
        "\n",
        "print (\"The even numbers: \", D)\n",
        "print (\"Number of evens: \", B)"
      ],
      "metadata": {
        "colab": {
          "base_uri": "https://localhost:8080/"
        },
        "id": "8_AbT5NuAGNj",
        "outputId": "8e88d2c1-cb5c-4db9-babd-b796d0ef042a"
      },
      "execution_count": 4,
      "outputs": [
        {
          "output_type": "stream",
          "name": "stdout",
          "text": [
            "Number of evens:  5\n",
            "The even numbers:  [2, 4, 6, 8, 10]\n"
          ]
        }
      ]
    },
    {
      "cell_type": "code",
      "source": [],
      "metadata": {
        "id": "nn3t5hjDpJ9D"
      },
      "execution_count": null,
      "outputs": []
    }
  ]
}