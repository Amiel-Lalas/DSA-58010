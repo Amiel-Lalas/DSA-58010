{
  "nbformat": 4,
  "nbformat_minor": 0,
  "metadata": {
    "colab": {
      "name": "Untitled7.ipynb",
      "provenance": [],
      "authorship_tag": "ABX9TyOJrsAY6rMLfrp18A6ig44x",
      "include_colab_link": true
    },
    "kernelspec": {
      "name": "python3",
      "display_name": "Python 3"
    },
    "language_info": {
      "name": "python"
    }
  },
  "cells": [
    {
      "cell_type": "markdown",
      "metadata": {
        "id": "view-in-github",
        "colab_type": "text"
      },
      "source": [
        "<a href=\"https://colab.research.google.com/github/Amiel-Lalas/DSA-58010/blob/main/Practice%20Problem%201.ipynb\" target=\"_parent\"><img src=\"https://colab.research.google.com/assets/colab-badge.svg\" alt=\"Open In Colab\"/></a>"
      ]
    },
    {
      "cell_type": "markdown",
      "source": [
        "### Practice Problem"
      ],
      "metadata": {
        "id": "voIJWZjyd2Ch"
      }
    },
    {
      "cell_type": "code",
      "execution_count": 1,
      "metadata": {
        "id": "YHBP40QzbTaZ",
        "colab": {
          "base_uri": "https://localhost:8080/"
        },
        "outputId": "528614b3-134b-4346-aa0e-69ebf7d9aebd"
      },
      "outputs": [
        {
          "output_type": "stream",
          "name": "stdout",
          "text": [
            "Even Scores: [26, 98, 62]\n",
            "Total Value Of Even Scores: 186\n"
          ]
        }
      ],
      "source": [
        "group = [26,49,98,87,62,75]\n",
        "even = [x for x in group if x % 2 ==0]\n",
        "print (\"Even Scores:\", even)\n",
        "\n",
        "even_tot= sum (even)\n",
        "print (\"Total Value Of Even Scores:\", even_tot)"
      ]
    },
    {
      "cell_type": "code",
      "source": [
        "group=[]\n",
        "sum= 0\n",
        "num= int (input(\"Enter The Total Number Of Values:\"))\n",
        "for x in range(1, num + 1):\n",
        "  value=int(input(\"Input A Number:\"))\n",
        "  group.append(value)\n",
        "\n",
        "for y in range (num):\n",
        "  if (group[y] % 2 == 0):\n",
        "    sum = sum + group [y]\n",
        "\n",
        "print(\"Total Value Of Even Numbers:\",sum)\n"
      ],
      "metadata": {
        "colab": {
          "base_uri": "https://localhost:8080/"
        },
        "id": "yy7AZqFcjwFh",
        "outputId": "342983ef-35c8-416e-9bf2-b041ad83c050"
      },
      "execution_count": 8,
      "outputs": [
        {
          "output_type": "stream",
          "name": "stdout",
          "text": [
            "Enter The Total Number Of Values:6\n",
            "Input A Number:26\n",
            "Input A Number:49\n",
            "Input A Number:98\n",
            "Input A Number:87\n",
            "Input A Number:62\n",
            "Input A Number:75\n",
            "Total Value Of Even Numbers: 186\n"
          ]
        }
      ]
    }
  ]
}